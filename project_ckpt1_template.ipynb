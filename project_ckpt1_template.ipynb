{
 "cells": [
  {
   "cell_type": "markdown",
   "id": "ecf043cf",
   "metadata": {},
   "source": [
    "# Final Project\n",
    "\n",
    "This notebook is adapted from here: https://aiqm.github.io/torchani/examples/nnp_training.html\n",
    "\n",
    "## Checkpoint 1: Data preparation\n",
    "\n",
    "1. Create a working directory: `/global/scratch/users/[USER_NAME]/[DIR_NAME]`. Replace the [USER_NAME] with yours and specify a [DIR_NAME] you like.\n",
    "2. Copy the Jupyter Notebook to the working directory\n",
    "3. Download the ANI dataset `ani_dataset_gdb_s01_to_s04.h5` from bCourses and upload it to the working directory"
   ]
  },
  {
   "cell_type": "code",
   "execution_count": 115,
   "id": "9ecfb103-de29-45f5-a75f-be20a837c951",
   "metadata": {},
   "outputs": [
    {
     "name": "stdout",
     "output_type": "stream",
     "text": [
      "Requirement already satisfied: torchani in /Users/hiyapandya/anaconda3/envs/c142/lib/python3.8/site-packages (2.2.4)\n",
      "Requirement already satisfied: torch in /Users/hiyapandya/anaconda3/envs/c142/lib/python3.8/site-packages (from torchani) (2.4.1)\n",
      "Requirement already satisfied: lark-parser in /Users/hiyapandya/anaconda3/envs/c142/lib/python3.8/site-packages (from torchani) (0.12.0)\n",
      "Requirement already satisfied: requests in /Users/hiyapandya/anaconda3/envs/c142/lib/python3.8/site-packages (from torchani) (2.32.3)\n",
      "Requirement already satisfied: importlib-metadata in /Users/hiyapandya/anaconda3/envs/c142/lib/python3.8/site-packages (from torchani) (8.5.0)\n",
      "Requirement already satisfied: zipp>=3.20 in /Users/hiyapandya/anaconda3/envs/c142/lib/python3.8/site-packages (from importlib-metadata->torchani) (3.21.0)\n",
      "Requirement already satisfied: charset-normalizer<4,>=2 in /Users/hiyapandya/anaconda3/envs/c142/lib/python3.8/site-packages (from requests->torchani) (3.4.0)\n",
      "Requirement already satisfied: idna<4,>=2.5 in /Users/hiyapandya/anaconda3/envs/c142/lib/python3.8/site-packages (from requests->torchani) (3.10)\n",
      "Requirement already satisfied: urllib3<3,>=1.21.1 in /Users/hiyapandya/anaconda3/envs/c142/lib/python3.8/site-packages (from requests->torchani) (2.2.3)\n",
      "Requirement already satisfied: certifi>=2017.4.17 in /Users/hiyapandya/anaconda3/envs/c142/lib/python3.8/site-packages (from requests->torchani) (2024.8.30)\n",
      "Requirement already satisfied: filelock in /Users/hiyapandya/anaconda3/envs/c142/lib/python3.8/site-packages (from torch->torchani) (3.13.1)\n",
      "Requirement already satisfied: typing-extensions>=4.8.0 in /Users/hiyapandya/anaconda3/envs/c142/lib/python3.8/site-packages (from torch->torchani) (4.12.2)\n",
      "Requirement already satisfied: sympy in /Users/hiyapandya/anaconda3/envs/c142/lib/python3.8/site-packages (from torch->torchani) (1.13.3)\n",
      "Requirement already satisfied: networkx in /Users/hiyapandya/anaconda3/envs/c142/lib/python3.8/site-packages (from torch->torchani) (3.1)\n",
      "Requirement already satisfied: jinja2 in /Users/hiyapandya/anaconda3/envs/c142/lib/python3.8/site-packages (from torch->torchani) (3.1.4)\n",
      "Requirement already satisfied: fsspec in /Users/hiyapandya/anaconda3/envs/c142/lib/python3.8/site-packages (from torch->torchani) (2025.3.1)\n",
      "Requirement already satisfied: MarkupSafe>=2.0 in /Users/hiyapandya/anaconda3/envs/c142/lib/python3.8/site-packages (from jinja2->torch->torchani) (2.1.3)\n",
      "Requirement already satisfied: mpmath<1.4,>=1.1.0 in /Users/hiyapandya/anaconda3/envs/c142/lib/python3.8/site-packages (from sympy->torch->torchani) (1.3.0)\n",
      "Note: you may need to restart the kernel to use updated packages.\n"
     ]
    }
   ],
   "source": [
    "pip install torchani"
   ]
  },
  {
   "cell_type": "code",
   "execution_count": 117,
   "id": "d46c568c",
   "metadata": {},
   "outputs": [],
   "source": [
    "import warnings\n",
    "warnings.filterwarnings(\"ignore\", category=UserWarning)\n",
    "import numpy as np\n",
    "from tqdm import tqdm\n",
    "import torch\n",
    "import torch.nn as nn\n",
    "import torchani"
   ]
  },
  {
   "cell_type": "markdown",
   "id": "c2185469",
   "metadata": {},
   "source": [
    "### Use GPU"
   ]
  },
  {
   "cell_type": "code",
   "execution_count": 120,
   "id": "d0a43110",
   "metadata": {},
   "outputs": [
    {
     "name": "stdout",
     "output_type": "stream",
     "text": [
      "cpu\n"
     ]
    }
   ],
   "source": [
    "device = torch.device('cuda' if torch.cuda.is_available() else 'cpu')\n",
    "print(device)"
   ]
  },
  {
   "cell_type": "markdown",
   "id": "4a47d9b5",
   "metadata": {},
   "source": [
    "### Set up AEV computer\n",
    "\n",
    "#### AEV: Atomic Environment Vector (atomic features)\n",
    "\n",
    "Ref: Chem. Sci., 2017, 8, 3192"
   ]
  },
  {
   "cell_type": "code",
   "execution_count": 123,
   "id": "cbab151f",
   "metadata": {},
   "outputs": [
    {
     "name": "stdout",
     "output_type": "stream",
     "text": [
      "384\n"
     ]
    }
   ],
   "source": [
    "def init_aev_computer():\n",
    "    Rcr = 5.2\n",
    "    Rca = 3.5\n",
    "    EtaR = torch.tensor([16], dtype=torch.float, device=device)\n",
    "    ShfR = torch.tensor([\n",
    "        0.900000, 1.168750, 1.437500, 1.706250, \n",
    "        1.975000, 2.243750, 2.512500, 2.781250, \n",
    "        3.050000, 3.318750, 3.587500, 3.856250, \n",
    "        4.125000, 4.393750, 4.662500, 4.931250\n",
    "    ], dtype=torch.float, device=device)\n",
    "\n",
    "\n",
    "    EtaA = torch.tensor([8], dtype=torch.float, device=device)\n",
    "    Zeta = torch.tensor([32], dtype=torch.float, device=device)\n",
    "    ShfA = torch.tensor([0.90, 1.55, 2.20, 2.85], dtype=torch.float, device=device)\n",
    "    ShfZ = torch.tensor([\n",
    "        0.19634954, 0.58904862, 0.9817477, 1.37444680, \n",
    "        1.76714590, 2.15984490, 2.5525440, 2.94524300\n",
    "    ], dtype=torch.float, device=device)\n",
    "\n",
    "    num_species = 4\n",
    "    aev_computer = torchani.AEVComputer(\n",
    "        Rcr, Rca, EtaR, ShfR, EtaA, Zeta, ShfA, ShfZ, num_species\n",
    "    )\n",
    "    return aev_computer\n",
    "\n",
    "aev_computer = init_aev_computer()\n",
    "aev_dim = aev_computer.aev_length\n",
    "print(aev_dim)"
   ]
  },
  {
   "cell_type": "markdown",
   "id": "76dbba20",
   "metadata": {},
   "source": [
    "### Prepare dataset & split"
   ]
  },
  {
   "cell_type": "code",
   "execution_count": 4,
   "id": "57c61dd2",
   "metadata": {},
   "outputs": [],
   "source": [
    "def load_ani_dataset(dspath):\n",
    "    self_energies = torch.tensor([\n",
    "        0.500607632585, -37.8302333826,\n",
    "        -54.5680045287, -75.0362229210\n",
    "    ], dtype=torch.float, device=device)\n",
    "    energy_shifter = torchani.utils.EnergyShifter(None)\n",
    "    species_order = ['H', 'C', 'N', 'O']\n",
    "\n",
    "    dataset = torchani.data.load(dspath)\n",
    "    dataset = dataset.subtract_self_energies(energy_shifter, species_order)\n",
    "    dataset = dataset.species_to_indices(species_order)\n",
    "    dataset = dataset.shuffle()\n",
    "    return dataset\n",
    "\n",
    "dataset = load_ani_dataset(\"./ani_gdb_s01_to_s04.h5\")\n",
    "# Use dataset.split method to do split\n",
    "train_data, val_data, test_data = dataset.split([0.8, 0.1, 0.1])"
   ]
  },
  {
   "cell_type": "markdown",
   "id": "cd298d34",
   "metadata": {},
   "source": [
    "### Batching"
   ]
  },
  {
   "cell_type": "code",
   "execution_count": 126,
   "id": "7362ecf4",
   "metadata": {},
   "outputs": [],
   "source": [
    "batch_size = 8192\n",
    "\n",
    "# Use dataset.collate(...).cache() method to do batching\n",
    "train_data_loader = train_data.collate(batch_size).cache()\n",
    "val_data_loader = val_data.collate(batch_size).cache()\n",
    "test_data_loader = test_data.collate(batch_size).cache()"
   ]
  },
  {
   "cell_type": "markdown",
   "id": "3815d019",
   "metadata": {},
   "source": [
    "### Torchani API"
   ]
  },
  {
   "cell_type": "code",
   "execution_count": 128,
   "id": "b27f7914",
   "metadata": {},
   "outputs": [],
   "source": [
    "class AtomicNet(nn.Module):\n",
    "    def __init__(self):\n",
    "        super().__init__()\n",
    "        self.layers = nn.Sequential(\n",
    "            nn.Linear(384, 128),\n",
    "            nn.ReLU(),\n",
    "            nn.Linear(128, 1)\n",
    "        )\n",
    "    \n",
    "    def forward(self, x):\n",
    "        return self.layers(x)\n",
    "\n",
    "net_H = AtomicNet()\n",
    "net_C = AtomicNet()\n",
    "net_N = AtomicNet()\n",
    "net_O = AtomicNet()\n",
    "\n",
    "# ANI model requires a network for each atom type\n",
    "# use torch.ANIModel() to compile atomic networks\n",
    "ani_net = torchani.ANIModel([\n",
    "    net_H,\n",
    "    net_C,\n",
    "    net_N,\n",
    "    net_O\n",
    "])\n",
    "model = nn.Sequential(\n",
    "    aev_computer,\n",
    "    ani_net\n",
    ").to(device)"
   ]
  },
  {
   "cell_type": "code",
   "execution_count": 194,
   "id": "ac20649e-4d98-41b4-a494-365140203121",
   "metadata": {},
   "outputs": [
    {
     "name": "stdout",
     "output_type": "stream",
     "text": [
      "tensor(0.0463, device='cpu', grad_fn=<MseLossBackward0>)\n"
     ]
    }
   ],
   "source": [
    "train_data_batch = next(iter(train_data_loader))\n",
    "\n",
    "loss_func = nn.MSELoss()\n",
    "species = train_data_batch['species'].to(device)\n",
    "coords = train_data_batch['coordinates'].to(device)\n",
    "true_energies = train_data_batch['energies'].to(device).float()\n",
    "_, pred_energies = model((species, coords))\n",
    "loss = loss_func(true_energies, pred_energies)\n",
    "print(loss)"
   ]
  }
 ],
 "metadata": {
  "kernelspec": {
   "display_name": "Python [conda env:c142]",
   "language": "python",
   "name": "conda-env-c142-py"
  },
  "language_info": {
   "codemirror_mode": {
    "name": "ipython",
    "version": 3
   },
   "file_extension": ".py",
   "mimetype": "text/x-python",
   "name": "python",
   "nbconvert_exporter": "python",
   "pygments_lexer": "ipython3",
   "version": "3.8.18"
  }
 },
 "nbformat": 4,
 "nbformat_minor": 5
}
